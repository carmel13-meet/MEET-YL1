{
 "metadata": {
  "name": "lab204"
 },
 "nbformat": 3,
 "nbformat_minor": 0,
 "worksheets": [
  {
   "cells": [
    {
     "cell_type": "code",
     "collapsed": false,
     "input": [
      "%matplotlib inline\n",
      "import numpy as np\n",
      "import matplotlib.pyplot as plt"
     ],
     "language": "python",
     "metadata": {},
     "outputs": []
    },
    {
     "cell_type": "code",
     "collapsed": false,
     "input": [
      "def plot_taylor_approximations(func, x0=None, orders=(2, 4), xrange=(0,1), yrange=None, npts=200):\n",
      "    if not callable(func):\n",
      "        raise ValueError('func must be callable')\n",
      "    if isinstance(xrange, (list, tuple)):\n",
      "        x = np.linspace(float(xrange[0]), float(xrange[1]), npts)\n",
      "    else:\n",
      "        x = xrange\n",
      "    if x0 is None: x0 = x[0]\n",
      "    xs = sym.Symbol('x')\n",
      "    fx = func(xs)\n",
      "    f = sym.lambdify(xs, fx, modules=['numpy'])\n",
      "    plt.plot(x, f(x), label=str(fx), lw=2)\n",
      "    apps = {}\n",
      "    for order in orders:\n",
      "        app = fx.series(xs, x0, n=order).removeO()\n",
      "        apps[order] = app\n",
      "        if isinstance(app, sym.numbers.Number):\n",
      "            y = np.zeros_like(x)\n",
      "            y.fill(app.evalf())\n",
      "        else:\n",
      "            fa = sym.lambdify(xs, app, modules=['numpy'])\n",
      "            y = fa(x)\n",
      "        tex = sym.latex(app).replace('$', '')\n",
      "        plt.plot(x, y, label=r'$n=%s:\\, %s$' % (order, tex) )\n",
      "    if yrange is not None:\n",
      "        plt.ylim(*yrange)\n",
      "    plt.grid()\n",
      "    plt.legend(loc='best').get_frame().set_alpha(0.8)"
     ],
     "language": "python",
     "metadata": {},
     "outputs": []
    },
    {
     "cell_type": "code",
     "collapsed": false,
     "input": [
      "plot_taylor_approximations(sin, 0, [2, 4, 6], (0, 2*pi), (-2,2))"
     ],
     "language": "python",
     "metadata": {},
     "outputs": [
      {
       "ename": "NameError",
       "evalue": "name 'plot_taylor_approximations' is not defined",
       "output_type": "pyerr",
       "traceback": [
        "\u001b[0;31m---------------------------------------------------------------------------\u001b[0m\n\u001b[0;31mNameError\u001b[0m                                 Traceback (most recent call last)",
        "\u001b[0;32m<ipython-input-3-744db202ef78>\u001b[0m in \u001b[0;36m<module>\u001b[0;34m()\u001b[0m\n\u001b[0;32m----> 1\u001b[0;31m \u001b[0mplot_taylor_approximations\u001b[0m\u001b[0;34m(\u001b[0m\u001b[0msin\u001b[0m\u001b[0;34m,\u001b[0m \u001b[0;36m0\u001b[0m\u001b[0;34m,\u001b[0m \u001b[0;34m[\u001b[0m\u001b[0;36m2\u001b[0m\u001b[0;34m,\u001b[0m \u001b[0;36m4\u001b[0m\u001b[0;34m,\u001b[0m \u001b[0;36m6\u001b[0m\u001b[0;34m]\u001b[0m\u001b[0;34m,\u001b[0m \u001b[0;34m(\u001b[0m\u001b[0;36m0\u001b[0m\u001b[0;34m,\u001b[0m \u001b[0;36m2\u001b[0m\u001b[0;34m*\u001b[0m\u001b[0mpi\u001b[0m\u001b[0;34m)\u001b[0m\u001b[0;34m,\u001b[0m \u001b[0;34m(\u001b[0m\u001b[0;34m-\u001b[0m\u001b[0;36m2\u001b[0m\u001b[0;34m,\u001b[0m\u001b[0;36m2\u001b[0m\u001b[0;34m)\u001b[0m\u001b[0;34m)\u001b[0m\u001b[0;34m\u001b[0m\u001b[0m\n\u001b[0m",
        "\u001b[0;31mNameError\u001b[0m: name 'plot_taylor_approximations' is not defined"
       ]
      }
     ],
     "prompt_number": 3
    }
   ],
   "metadata": {}
  }
 ]
}