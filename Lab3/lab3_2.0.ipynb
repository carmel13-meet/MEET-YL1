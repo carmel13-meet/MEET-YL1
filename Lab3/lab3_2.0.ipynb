{
 "metadata": {
  "name": "lab3_2.0"
 },
 "nbformat": 3,
 "nbformat_minor": 0,
 "worksheets": [
  {
   "cells": [
    {
     "cell_type": "code",
     "collapsed": false,
     "input": [
      "import csv"
     ],
     "language": "python",
     "metadata": {},
     "outputs": [],
     "prompt_number": 6
    },
    {
     "cell_type": "code",
     "collapsed": false,
     "input": [
      "f = open('crime.csv', 'rb')\n",
      "reader = csv.reader(f)\n",
      "year = []\n",
      "crimes = []\n",
      "for row in reader:\n",
      "    a = row[0]\n",
      "    b = a.split()\n",
      "    c = map(int, b[7:])\n",
      "    year.append(c[0])\n",
      "    crimes.append(c[1])\n",
      "f.close()\n"
     ],
     "language": "python",
     "metadata": {},
     "outputs": [
      {
       "output_type": "stream",
       "stream": "stdout",
       "text": [
        "[1960, 406]\n",
        "[1961, 427]\n",
        "[1962, 316]\n",
        "[1963, 340]\n",
        "[1964, 316]\n",
        "[1965, 395]\n",
        "[1966, 384]\n",
        "[1967, 415]\n",
        "[1968, 421]\n",
        "[1969, 485]\n",
        "[1970, 404]\n",
        "[1971, 524]\n",
        "[1972, 496]\n",
        "[1973, 468]\n",
        "[1974, 536]\n",
        "[1975, 577]\n",
        "[1976, 553]\n",
        "[1977, 524]\n",
        "[1978, 499]\n",
        "[1979, 496]\n",
        "[1980, 509]\n",
        "[1981, 465]\n",
        "[1982, 417]\n",
        "[1983, 364]\n",
        "[1984, 374]\n",
        "[1985, 396]\n",
        "[1986, 409]\n",
        "[1987, 380]\n",
        "[1988, 408]\n",
        "[1989, 421]\n",
        "[1990, 467]\n",
        "[1991, 469]\n",
        "[1992, 455]\n",
        "[1993, 484]\n",
        "[1994, 501]\n",
        "[1995, 475]\n",
        "[1996, 444]\n",
        "[1997, 426]\n",
        "[1998, 354]\n",
        "[1999, 345]\n",
        "[2000, 329]\n",
        "[2001, 379]\n",
        "[2002, 303]\n",
        "[2003, 299]\n",
        "[2004, 254]\n",
        "[2005, 374]\n"
       ]
      }
     ],
     "prompt_number": 21
    },
    {
     "cell_type": "code",
     "collapsed": false,
     "input": [
      "from pylab import *"
     ],
     "language": "python",
     "metadata": {},
     "outputs": []
    },
    {
     "cell_type": "code",
     "collapsed": false,
     "input": [
      "scatter(year, crimes)"
     ],
     "language": "python",
     "metadata": {},
     "outputs": [
      {
       "output_type": "pyout",
       "prompt_number": 22,
       "text": [
        "<matplotlib.collections.PathCollection at 0xaa36e0c>"
       ]
      },
      {
       "output_type": "display_data",
       "png": "[encoded data removed]"
      }
     ],
     "prompt_number": 22
    },
    {
     "cell_type": "code",
     "collapsed": false,
     "input": [],
     "language": "python",
     "metadata": {},
     "outputs": []
    }
   ],
   "metadata": {}
  }
 ]
}