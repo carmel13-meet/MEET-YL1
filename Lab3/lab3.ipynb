{
 "metadata": {
  "name": "lab3"
 },
 "nbformat": 3,
 "nbformat_minor": 0,
 "worksheets": [
  {
   "cells": [
    {
     "cell_type": "code",
     "collapsed": false,
     "input": [
      "import csv\n",
      "from pylab import *"
     ],
     "language": "python",
     "metadata": {},
     "outputs": []
    },
    {
     "cell_type": "code",
     "collapsed": false,
     "input": [
      "\n",
      "        \n",
      "f = open('cigarettes.csv', 'rb')\n",
      "reader = csv.reader(f)\n",
      "miko = []\n",
      "ofec = []\n",
      "for row in reader:\n",
      "    a = row[0]\n",
      "    b = a.split()\n",
      "    newRow = map(float, b[1:])\n",
      "    miko.append(r[1])\n",
      "    ofec.append(r[2])\n",
      "    print newRow\n",
      "f.close()\n",
      "        "
     ],
     "language": "python",
     "metadata": {},
     "outputs": [
      {
       "output_type": "stream",
       "stream": "stdout",
       "text": [
        "[14.1, 0.86, 0.9853, 13.6]\n",
        "[16.0, 1.06, 1.0938, 16.6]\n",
        "[29.8, 2.03, 1.165, 23.5]\n",
        "[8.0, 0.67, 0.928, 10.2]\n",
        "[4.1, 0.4, 0.9462, 5.4]\n",
        "[15.0, 1.04, 0.8885, 15.0]\n",
        "[8.8, 0.76, 1.0267, 9.0]\n",
        "[12.4, 0.95, 0.9225, 12.3]\n",
        "[16.6, 1.12, 0.9372, 16.3]\n",
        "[14.9, 1.02, 0.8858, 15.4]\n",
        "[13.7, 1.01, 0.9643, 13.0]\n",
        "[15.1, 0.9, 0.9316, 14.4]\n",
        "[7.8, 0.57, 0.9705, 10.0]\n",
        "[11.4, 0.78, 1.124, 10.2]\n",
        "[9.0, 0.74, 0.8517, 9.5]\n",
        "[1.0, 0.13, 0.7851, 1.5]\n",
        "[17.0, 1.26, 0.9186, 18.5]\n",
        "[12.8, 1.08, 1.0395, 12.6]\n",
        "[15.8, 0.96, 0.9573, 17.5]\n",
        "[4.5, 0.42, 0.9106, 4.9]\n",
        "[14.5, 1.01, 1.007, 15.9]\n",
        "[7.3, 0.61, 0.9806, 8.5]\n",
        "[8.6, 0.69, 0.9693, 10.6]\n",
        "[15.2, 1.02, 0.9496, 13.9]\n",
        "[12.0, 0.82, 1.1184, 14.9]\n"
       ]
      }
     ],
     "prompt_number": 8
    },
    {
     "cell_type": "code",
     "collapsed": false,
     "input": [
      "fig = plt.figure()\n",
      "ax = fig.add_subplot(111)\n",
      "ax.set_title('Miko and Ofec at bedtime')\n",
      "ax.set_xlabel('Miko (g)')\n",
      "ax.set_ylabel('Ofec (cc)')\n",
      "ax.scatter(miko, ofec)\n",
      "fig.savefig(\"miko_with_ofec.png\")"
     ],
     "language": "python",
     "metadata": {},
     "outputs": [
      {
       "output_type": "display_data",
       "png": "[encoded data removed]"
      }
     ],
     "prompt_number": 9
    },
    {
     "cell_type": "code",
     "collapsed": false,
     "input": [
      "\n"
     ],
     "language": "python",
     "metadata": {},
     "outputs": [],
     "prompt_number": 61
    }
   ],
   "metadata": {}
  }
 ]
}