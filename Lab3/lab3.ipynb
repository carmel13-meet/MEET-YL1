{
 "metadata": {
  "name": "lab3"
 },
 "nbformat": 3,
 "nbformat_minor": 0,
 "worksheets": [
  {
   "cells": [
    {
     "cell_type": "code",
     "collapsed": false,
     "input": [
      "import csv\n",
      "#from pylab import *\n",
      "\n",
      "def is_number(s):\n",
      "    try:\n",
      "        float(s)\n",
      "        return True\n",
      "    except ValueError:\n",
      "        return False\n",
      "\n",
      "f = open('cigarettes.csv', 'rb')\n",
      "reader = csv.reader(f)\n",
      "for row in reader:\n",
      "    new_row = []\n",
      "    a = row[0]\n",
      "    b = a.split()\n",
      "    for i in range(len(b)-1):\n",
      "        if is_number(b[i]) == True:\n",
      "            new_row.append(float(b[i]))\n",
      "    print new_row\n",
      "f.close()\n",
      "        "
     ],
     "language": "python",
     "metadata": {},
     "outputs": [
      {
       "output_type": "stream",
       "stream": "stdout",
       "text": [
        "[14.1, 0.86, 0.9853]\n",
        "[16.0, 1.06, 1.0938]\n",
        "[29.8, 2.03, 1.165]\n",
        "[8.0, 0.67, 0.928]\n",
        "[4.1, 0.4, 0.9462]\n",
        "[15.0, 1.04, 0.8885]\n",
        "[8.8, 0.76, 1.0267]\n",
        "[12.4, 0.95, 0.9225]\n",
        "[16.6, 1.12, 0.9372]\n",
        "[14.9, 1.02, 0.8858]\n",
        "[13.7, 1.01, 0.9643]\n",
        "[15.1, 0.9, 0.9316]\n",
        "[7.8, 0.57, 0.9705]\n",
        "[11.4, 0.78, 1.124]\n",
        "[9.0, 0.74, 0.8517]\n",
        "[1.0, 0.13, 0.7851]\n",
        "[17.0, 1.26, 0.9186]\n",
        "[12.8, 1.08, 1.0395]\n",
        "[15.8, 0.96, 0.9573]\n",
        "[4.5, 0.42, 0.9106]\n",
        "[14.5, 1.01, 1.007]\n",
        "[7.3, 0.61, 0.9806]\n",
        "[8.6, 0.69, 0.9693]\n",
        "[15.2, 1.02, 0.9496]\n",
        "[12.0, 0.82, 1.1184]\n"
       ]
      }
     ],
     "prompt_number": 62
    },
    {
     "cell_type": "code",
     "collapsed": false,
     "input": [
      "fig = plt.figure()\n",
      "ax = fig.add_subplot(111)\n",
      "ax.set_title('Oyster weight and volume')\n",
      "ax.set_xlabel('Oyster weight (g)')\n",
      "ax.set_ylabel('Oyster volume (cc)')\n",
      "ax.scatter(weight, vol)\n",
      "fig.savefig(\"oyster_with_titles.png\")"
     ],
     "language": "python",
     "metadata": {},
     "outputs": [],
     "prompt_number": 2
    },
    {
     "cell_type": "code",
     "collapsed": false,
     "input": [
      "\n"
     ],
     "language": "python",
     "metadata": {},
     "outputs": [],
     "prompt_number": 61
    }
   ],
   "metadata": {}
  }
 ]
}